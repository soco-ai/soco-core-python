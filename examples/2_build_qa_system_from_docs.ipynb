{
 "cells": [
  {
   "cell_type": "markdown",
   "metadata": {},
   "source": [
    "# Build QA system from docs"
   ]
  },
  {
   "cell_type": "markdown",
   "metadata": {},
   "source": [
    "The tutorial is a simple project teaching you how to easily build a QA system from docs with SOCO.AI. Let’s get started with Soco!\n",
    "\n",
    "You’ll learn how to:\n",
    "\n",
    "* Create and use a task\n",
    "* Add data to Soco server\n",
    "* Publish your data and generate QA system\n",
    "* Qurey from trained data with code"
   ]
  },
  {
   "cell_type": "markdown",
   "metadata": {},
   "source": [
    "## Get started\n",
    "To get started, you will first need to visit <a href='https://app.soco.ai/' target='_blank'>SOCO.AI</a>.\n",
    "All you need to do is to sign up and create a new account. It's totally free!\n",
    "\n",
    "After you create a account, you will see your dashboard. Press the \"New Task\" button top above the task table on the right to create a new task.\n",
    "\n",
    "When creating a new task, you can customize your task name, language and preview url.\n",
    "* **Task name**: This is for you and Soco to identify which task to work on\n",
    "* **Language**: You can choose which language you want to train. Soco supports English and Chinese right now. \n",
    "* **Preview Url**: This is for previewing your QA system"
   ]
  },
  {
   "cell_type": "markdown",
   "metadata": {},
   "source": [
    "Now let's start coding. First import SOCOClient to get started\n",
    "\n",
    "(Don't know how to install Soco python package? [check here](https://docs.soco.ai/soco-api/quick-start))"
   ]
  },
  {
   "cell_type": "code",
   "execution_count": 2,
   "metadata": {},
   "outputs": [],
   "source": [
    "from soco_core.soco_client import SOCOClient"
   ]
  },
  {
   "cell_type": "markdown",
   "metadata": {},
   "source": [
    "Now go to your Soco Dashbaord and jump to the setting page of the task your just created. You should be able to see the ADMIN_API_KEY button. Click on the button to copy the key and paste it in the code as shown below.\n",
    "\n",
    "With this key, you can specify which task the Soco python package should handle with."
   ]
  },
  {
   "cell_type": "code",
   "execution_count": 1,
   "metadata": {},
   "source": [
    "ADMIN_API_KEY = # copy your ADMIN_API_Key here\n",
    "a_client = SOCOClient(ADMIN_API_KEY)"
   ]
  },
  {
   "cell_type": "markdown",
   "metadata": {},
   "source": [
    "##  Prepare your data\n",
    "In this tutorial, we will provide parsed wiki data where you can [download here](https://drive.google.com/file/d/1j1zYSstG5ND3gohIDhZo-HwUt0ceCokV/view?usp=sharing).\n",
    "\n",
    "SOCO.AI also provide a best-in-class AI document parser to convert raw documents into manageable data. [See how it works ](https://docs.soco.ai/index-data/parse-files)"
   ]
  },
  {
   "cell_type": "code",
   "execution_count": 9,
   "metadata": {},
   "outputs": [],
   "source": [
    "import json\n",
    "import os"
   ]
  },
  {
   "cell_type": "code",
   "execution_count": 10,
   "metadata": {},
   "outputs": [],
   "source": [
    "docs = []\n",
    "# get all the data file in the docs folder\n",
    "for file in os.listdir(\"docs\"):\n",
    "    doc = {}\n",
    "    tmp =  json.load(open(\"docs/\"+file, \"r\"))\n",
    "    doc[\"data\"] = tmp[\"data\"]\n",
    "    doc[\"meta\"] = {}\n",
    "    doc[\"doc_type\"] = \"soco_doc\"\n",
    "    docs.append(doc)"
   ]
  },
  {
   "cell_type": "markdown",
   "metadata": {},
   "source": [
    "Notice that your data need to follow the Soco doc format. You can check details [here](https://docs.soco.ai/index-data/manage-data)\n",
    "\n",
    "In this tutorial, all the data is ready to use. So don't worry."
   ]
  },
  {
   "cell_type": "markdown",
   "metadata": {},
   "source": [
    "## Add data to the server\n",
    "To add data to the server, you should first create a task with SOCO.AI. Please check \"Get started\" section."
   ]
  },
  {
   "cell_type": "markdown",
   "metadata": {},
   "source": [
    "After you make the code connected to the Soco server and get the data in certain format, it's time to send those data to the server!\n",
    "\n",
    "You can do this with a simple line of code:"
   ]
  },
  {
   "cell_type": "code",
   "execution_count": null,
   "metadata": {},
   "outputs": [],
   "source": [
    "a_client.add_data(docs)"
   ]
  },
  {
   "cell_type": "markdown",
   "metadata": {},
   "source": [
    "And that's it! It may take some time to index the data. You can open your Soco Dashboard to see whether the task is ready to publish."
   ]
  },
  {
   "cell_type": "markdown",
   "metadata": {},
   "source": [
    "## Publish data\n",
    "After indexing is done, you can publish your task with a another line of code:"
   ]
  },
  {
   "cell_type": "code",
   "execution_count": null,
   "metadata": {},
   "outputs": [],
   "source": [
    "a_client.reindex()"
   ]
  },
  {
   "cell_type": "markdown",
   "metadata": {},
   "source": [
    "You can check the real-time progressing output in the console. Also, you can see the progress bar in the Soco Dashboard.\n",
    "\n",
    "After this is done, we can reach out to the final step."
   ]
  },
  {
   "cell_type": "markdown",
   "metadata": {},
   "source": [
    "## Query data\n",
    "\n",
    "Now you can start viewing your QA system! Here're two ways to do this:\n",
    "\n",
    "1. You can go to your task setting page, hit the preview button and start asking questions using the search bar\n",
    "![title](img/preview.png)\n",
    "2. You can use the code below to query  ([see how to query your task with code](https://docs.soco.ai/query-soco/query-for-precise-answers))"
   ]
  },
  {
   "cell_type": "code",
   "execution_count": null,
   "metadata": {},
   "outputs": [
    {
     "name": "stdout",
     "output_type": "stream",
     "text": [
      "Type you question\n",
      "who is Melinda Ann Gates\n",
      "(10.043925) - Melinda Ann Gates DBE (née French; August 15, 1964) is an American philanthropist and a former general manager at Microsoft.\n"
     ]
    }
   ],
   "source": [
    "while True:\n",
    "    q = input('Type you question\\n')\n",
    "    responses = a_client.query({\"query\": q, \"n_best\": 1})\n",
    "    SOCOClient.pprint(responses)"
   ]
  },
  {
   "cell_type": "markdown",
   "metadata": {},
   "source": [
    "Here's how it looks\n",
    "![title](img/coderesult.png)"
   ]
  }
 ],
 "metadata": {
  "kernelspec": {
   "display_name": "Python 3",
   "language": "python",
   "name": "python3"
  },
  "language_info": {
   "codemirror_mode": {
    "name": "ipython",
    "version": 3
   },
   "file_extension": ".py",
   "mimetype": "text/x-python",
   "name": "python",
   "nbconvert_exporter": "python",
   "pygments_lexer": "ipython3",
   "version": "3.7.4"
  }
 },
 "nbformat": 4,
 "nbformat_minor": 1
}